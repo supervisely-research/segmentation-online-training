{
 "cells": [
  {
   "cell_type": "code",
   "execution_count": 2,
   "metadata": {},
   "outputs": [],
   "source": [
    "import cv2\n",
    "import numpy as np\n",
    "from pathlib import Path\n",
    "\n",
    "def check_mask_values(mask_dir=\"../unet_data/train/masks\"):\n",
    "    mask_dir = Path(mask_dir)\n",
    "    \n",
    "    if not mask_dir.exists():\n",
    "        print(f\"Directory {mask_dir} not found\")\n",
    "        return\n",
    "    \n",
    "    mask_files = list(mask_dir.glob(\"*.png\"))\n",
    "    \n",
    "    if not mask_files:\n",
    "        print(\"No mask files found\")\n",
    "        return\n",
    "    \n",
    "    print(f\"Checking {len(mask_files)} mask files...\")\n",
    "    \n",
    "    for i, mask_file in enumerate(mask_files[:3]):  # Check first 3 masks\n",
    "        mask = cv2.imread(str(mask_file), cv2.IMREAD_GRAYSCALE)\n",
    "        \n",
    "        unique_values = np.unique(mask)\n",
    "        print(f\"\\nMask {mask_file.name}:\")\n",
    "        print(f\"  Shape: {mask.shape}\")\n",
    "        print(f\"  Unique values: {unique_values}\")\n",
    "        print(f\"  Min: {mask.min()}, Max: {mask.max()}\")\n",
    "        print(f\"  Non-zero pixels: {np.count_nonzero(mask)}\")\n",
    "        \n",
    "        # Show distribution\n",
    "        for val in unique_values:\n",
    "            count = np.sum(mask == val)\n",
    "            percentage = (count / mask.size) * 100\n",
    "            class_name = \"background\" if val == 0 else f\"class_{val}\"\n",
    "            print(f\"    {class_name} (value={val}): {count} pixels ({percentage:.1f}%)\")\n",
    "\n",
    "def visualize_mask(mask_path, output_path=None):\n",
    "    \"\"\"Create a visualization of the mask with scaled values\"\"\"\n",
    "    mask = cv2.imread(mask_path, cv2.IMREAD_GRAYSCALE)\n",
    "    \n",
    "    # Scale values for visualization (0->0, 1->85, 2->170, 3->255, etc.)\n",
    "    unique_vals = np.unique(mask)\n",
    "    if len(unique_vals) > 1:\n",
    "        max_class = unique_vals[-1]\n",
    "        if max_class > 0:\n",
    "            mask_vis = (mask * (255 // max_class)).astype(np.uint8)\n",
    "        else:\n",
    "            mask_vis = mask\n",
    "    else:\n",
    "        mask_vis = mask\n",
    "    \n",
    "    if output_path:\n",
    "        cv2.imwrite(output_path, mask_vis)\n",
    "        print(f\"Visualization saved to {output_path}\")\n",
    "    \n",
    "    return mask_vis\n",
    "\n",
    "\n",
    " "
   ]
  },
  {
   "cell_type": "code",
   "execution_count": 3,
   "metadata": {},
   "outputs": [
    {
     "name": "stdout",
     "output_type": "stream",
     "text": [
      "=== Mask Values Check ===\n",
      "Checking 51 mask files...\n",
      "\n",
      "Mask tomato-012_IMG_8319.png:\n",
      "  Shape: (3024, 4032)\n",
      "  Unique values: [0 2 3 4 5 6 9]\n",
      "  Min: 0, Max: 9\n",
      "  Non-zero pixels: 830689\n",
      "    background (value=0): 11362079 pixels (93.2%)\n",
      "    class_2 (value=2): 5299 pixels (0.0%)\n",
      "    class_3 (value=3): 199724 pixels (1.6%)\n",
      "    class_4 (value=4): 5015 pixels (0.0%)\n",
      "    class_5 (value=5): 356058 pixels (2.9%)\n"
     ]
    },
    {
     "name": "stdout",
     "output_type": "stream",
     "text": [
      "    class_6 (value=6): 258435 pixels (2.1%)\n",
      "    class_9 (value=9): 6158 pixels (0.1%)\n",
      "\n",
      "Mask tomato-040_IMG_8551.png:\n",
      "  Shape: (3024, 4032)\n",
      "  Unique values: [0 2 3 4 5 6 8 9]\n",
      "  Min: 0, Max: 9\n",
      "  Non-zero pixels: 436348\n",
      "    background (value=0): 11756420 pixels (96.4%)\n",
      "    class_2 (value=2): 1306 pixels (0.0%)\n",
      "    class_3 (value=3): 151037 pixels (1.2%)\n",
      "    class_4 (value=4): 1026 pixels (0.0%)\n",
      "    class_5 (value=5): 185140 pixels (1.5%)\n",
      "    class_6 (value=6): 70292 pixels (0.6%)\n",
      "    class_8 (value=8): 25833 pixels (0.2%)\n",
      "    class_9 (value=9): 1714 pixels (0.0%)\n",
      "\n",
      "Mask tomato-030_IMG_8466.png:\n",
      "  Shape: (3024, 4032)\n",
      "  Unique values: [0 4 9]\n",
      "  Min: 0, Max: 9\n",
      "  Non-zero pixels: 577320\n",
      "    background (value=0): 11615448 pixels (95.3%)\n",
      "    class_4 (value=4): 15235 pixels (0.1%)\n",
      "    class_9 (value=9): 562085 pixels (4.6%)\n",
      "Visualization saved to ../unet_data/train/masks/tomato-012_IMG_8319_visualization.png\n",
      "\n",
      "Created visualization: ../unet_data/train/masks/tomato-012_IMG_8319_visualization.png\n"
     ]
    }
   ],
   "source": [
    "print(\"=== Mask Values Check ===\")\n",
    "check_mask_values()\n",
    "\n",
    "# Create a visualization example\n",
    "mask_dir = Path(\"../unet_data/train/masks\")\n",
    "if mask_dir.exists():\n",
    "    mask_files = list(mask_dir.glob(\"*.png\"))\n",
    "    if mask_files:\n",
    "        first_mask = mask_files[0]\n",
    "        vis_path = str(first_mask).replace('.png', '_visualization.png')\n",
    "        visualize_mask(str(first_mask), vis_path)\n",
    "        print(f\"\\nCreated visualization: {vis_path}\")"
   ]
  },
  {
   "cell_type": "code",
   "execution_count": 4,
   "id": "1423c962",
   "metadata": {},
   "outputs": [
    {
     "name": "stdout",
     "output_type": "stream",
     "text": [
      "Created colored visualization: ../mask_visualizations/colored_tomato-012_IMG_8319.png\n",
      "  Classes found: [0 2 3 4 5 6 9]\n",
      "Created colored visualization: ../mask_visualizations/colored_tomato-040_IMG_8551.png\n",
      "  Classes found: [0 2 3 4 5 6 8 9]\n",
      "Created colored visualization: ../mask_visualizations/colored_tomato-030_IMG_8466.png\n",
      "  Classes found: [0 4 9]\n",
      "Created colored visualization: ../mask_visualizations/colored_tomato-001_image2.png\n",
      "  Classes found: [0 2 3 4 5 6 8 9]\n",
      "Created colored visualization: ../mask_visualizations/colored_tomato-030_IMG_8467.png\n",
      "  Classes found: [0 9]\n"
     ]
    }
   ],
   "source": [
    "import cv2\n",
    "import numpy as np\n",
    "import matplotlib.pyplot as plt\n",
    "from pathlib import Path\n",
    "\n",
    "def create_colored_mask_visualization():\n",
    "    \"\"\"Create colored visualizations of masks\"\"\"\n",
    "    mask_dir = Path(\"../unet_data/train/masks\")\n",
    "    output_dir = Path(\"../mask_visualizations\")\n",
    "    output_dir.mkdir(exist_ok=True)\n",
    "    \n",
    "    if not mask_dir.exists():\n",
    "        print(\"Mask directory not found\")\n",
    "        return\n",
    "    \n",
    "    # Color palette for classes\n",
    "    colors = [\n",
    "        [0, 0, 0],       # background - black\n",
    "        [255, 0, 0],     # class 1 - red  \n",
    "        [0, 255, 0],     # class 2 - green\n",
    "        [0, 0, 255],     # class 3 - blue\n",
    "        [255, 255, 0],   # class 4 - yellow\n",
    "        [255, 0, 255],   # class 5 - magenta\n",
    "        [0, 255, 255],   # class 6 - cyan\n",
    "    ]\n",
    "    \n",
    "    mask_files = list(mask_dir.glob(\"*.png\"))[:5]  # First 5 masks\n",
    "    \n",
    "    for mask_file in mask_files:\n",
    "        mask = cv2.imread(str(mask_file), cv2.IMREAD_GRAYSCALE)\n",
    "        \n",
    "        # Create colored visualization\n",
    "        colored_mask = np.zeros((mask.shape[0], mask.shape[1], 3), dtype=np.uint8)\n",
    "        \n",
    "        unique_values = np.unique(mask)\n",
    "        for val in unique_values:\n",
    "            if val < len(colors):\n",
    "                colored_mask[mask == val] = colors[val]\n",
    "        \n",
    "        # Save colored mask\n",
    "        output_path = output_dir / f\"colored_{mask_file.name}\"\n",
    "        cv2.imwrite(str(output_path), colored_mask)\n",
    "        \n",
    "        print(f\"Created colored visualization: {output_path}\")\n",
    "        print(f\"  Classes found: {unique_values}\")\n",
    "\n",
    "\n",
    "create_colored_mask_visualization()"
   ]
  },
  {
   "cell_type": "code",
   "execution_count": 6,
   "id": "bb0dfcb4",
   "metadata": {},
   "outputs": [],
   "source": [
    "from PIL import Image\n",
    "\n",
    "img = Image.open('/root/workspace/few_shot_data/unet/train_2shot_seed3/masks/tomato-012_IMG_8320.png')"
   ]
  },
  {
   "cell_type": "code",
   "execution_count": 7,
   "id": "4e291706",
   "metadata": {},
   "outputs": [
    {
     "data": {
      "text/plain": [
       "array([0, 1, 3, 5, 6, 8], dtype=uint8)"
      ]
     },
     "execution_count": 7,
     "metadata": {},
     "output_type": "execute_result"
    }
   ],
   "source": [
    "np.unique(img) "
   ]
  }
 ],
 "metadata": {
  "kernelspec": {
   "display_name": "base",
   "language": "python",
   "name": "python3"
  },
  "language_info": {
   "codemirror_mode": {
    "name": "ipython",
    "version": 3
   },
   "file_extension": ".py",
   "mimetype": "text/x-python",
   "name": "python",
   "nbconvert_exporter": "python",
   "pygments_lexer": "ipython3",
   "version": "3.10.13"
  }
 },
 "nbformat": 4,
 "nbformat_minor": 5
}
